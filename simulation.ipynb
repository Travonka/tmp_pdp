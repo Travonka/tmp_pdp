{
 "cells": [
  {
   "cell_type": "code",
   "execution_count": null,
   "metadata": {},
   "outputs": [],
   "source": [
    "import datetime as dt\n",
    "import itertools\n",
    "import inspect\n",
    "import logging\n",
    "import matplotlib.pyplot as plt\n",
    "import operator\n",
    "import os\n",
    "import pandas as pd\n",
    "import pickle\n",
    "import random\n",
    "import sys\n",
    "import time\n",
    "import matplotlib.pyplot as plt\n",
    "import numpy as np\n",
    "import json\n",
    "from random import shuffle"
   ]
  },
  {
   "cell_type": "markdown",
   "metadata": {},
   "source": [
    "## Data loading and preprocessing"
   ]
  },
  {
   "cell_type": "code",
   "execution_count": null,
   "metadata": {},
   "outputs": [],
   "source": [
    "idc = pd.read_csv('IdcCalcHistory_dist.csv')"
   ]
  },
  {
   "cell_type": "code",
   "execution_count": null,
   "metadata": {},
   "outputs": [],
   "source": [
    "df_sales = pd.read_csv('WarehouseShipmentOperations_dist_21_02to_01_03.csv')"
   ]
  },
  {
   "cell_type": "markdown",
   "metadata": {},
   "source": [
    "## Create warehouse topology\n"
   ]
  },
  {
   "cell_type": "code",
   "execution_count": null,
   "metadata": {},
   "outputs": [],
   "source": [
    "class Product:\n",
    "    def __init__(self, id, volume_liters, idc, coi, coi_with_ads, exemplar_id):\n",
    "        self.id = id\n",
    "        self.volume_liters = volume_liters\n",
    "        self.idc = idc\n",
    "        self.coi = coi\n",
    "        self.coi_with_ads = coi_with_ads\n",
    "        self.exemplar_id = exemplar_id"
   ]
  },
  {
   "cell_type": "code",
   "execution_count": null,
   "metadata": {},
   "outputs": [],
   "source": [
    "class Shelf:\n",
    "    def __init__(self, max_volume_liters):\n",
    "        self.max_volume_liters = max_volume_liters\n",
    "        self.products = []\n",
    "\n",
    "    def add_product(self, product):\n",
    "        if self.check_fit(product):\n",
    "            self.products.append(product)\n",
    "\n",
    "    def remove_product(self, product_to_remove):\n",
    "        to_rem = [product for product in self.products if (product_to_remove.id == product.id and product_to_remove.exemplar_id == product.exemplar_id)]\n",
    "        self.products.remove(to_rem[0])\n",
    "\n",
    "    def check_fit(self, product):\n",
    "        total_volume = sum([p.volume_liters for p in self.products]) + product.volume_liters\n",
    "        return total_volume <= self.max_volume_liters\n",
    "\n",
    "    def occupancy_ratio(self):\n",
    "        total_volume = sum([p.volume_liters for p in self.products])\n",
    "        return total_volume / self.max_volume_liters"
   ]
  },
  {
   "cell_type": "code",
   "execution_count": null,
   "metadata": {},
   "outputs": [],
   "source": [
    "class Warehouse:\n",
    "    def __init__(self, rows, columns):\n",
    "        self.rows = rows\n",
    "        self.columns = columns\n",
    "        self.warehouse_map = [[None] * columns for _ in range(rows)]\n",
    "\n",
    "    def add_shelf(self, row, column, max_volume_liters):\n",
    "        if row < self.rows and column < self.columns:\n",
    "            self.warehouse_map[row][column] = Shelf(max_volume_liters)\n",
    "\n",
    "    def remove_shelf(self, row, column):\n",
    "        if row < self.rows and column < self.columns:\n",
    "            self.warehouse_map[row][column] = None\n",
    "\n",
    "    def visualize_warehouse(self, visualization_type):\n",
    "        if visualization_type not in ['occupancy', 'idc', 'coi']:\n",
    "            raise ValueError(\"Invalid visualization type. Must be one of: 'occupancy', 'idc', 'coi'\")\n",
    "\n",
    "        warehouse_matrix = np.zeros((self.rows, self.columns))\n",
    "        for i in range(self.rows):\n",
    "            for j in range(self.columns):\n",
    "                if self.warehouse_map[i][j]:\n",
    "                    if visualization_type == 'occupancy':\n",
    "                        warehouse_matrix[i][j] = 1 - self.warehouse_map[i][j].occupancy_ratio()\n",
    "                    elif visualization_type == 'idc':\n",
    "                        if self.warehouse_map[i][j].products:\n",
    "                            avg_idc = sum([product.idc for product in self.warehouse_map[i][j].products]) / len(self.warehouse_map[i][j].products)\n",
    "                            warehouse_matrix[i][j] = avg_idc\n",
    "                        else:\n",
    "                            warehouse_matrix[i][j] = -1\n",
    "                    elif visualization_type == 'coi':\n",
    "                        if self.warehouse_map[i][j].products:\n",
    "                            avg_coi = sum([product.coi for product in self.warehouse_map[i][j].products]) / len(self.warehouse_map[i][j].products)\n",
    "                            warehouse_matrix[i][j] = avg_coi\n",
    "                        else:\n",
    "                            warehouse_matrix[i][j] = -1\n",
    "                else:\n",
    "                    warehouse_matrix[i][j] = np.nan\n",
    "\n",
    "        plt.figure(figsize=(20,20))\n",
    "        \n",
    "        if visualization_type == 'occupancy':\n",
    "            plt.imshow(warehouse_matrix, cmap='RdYlGn', interpolation='nearest', vmin=0, vmax=1)\n",
    "            plt.colorbar(label='Occupancy Ratio')\n",
    "        elif visualization_type in ['idc', 'coi']:\n",
    "            plt.imshow(warehouse_matrix, cmap='RdYlGn', interpolation='nearest')\n",
    "            plt.colorbar(label='Average Value')\n",
    "        plt.title('Warehouse Contents')\n",
    "        plt.xlabel('Columns')\n",
    "        plt.ylabel('Rows')\n",
    "        plt.xticks(range(self.columns))\n",
    "        plt.yticks(range(self.rows))\n",
    "        plt.grid(True)\n",
    "        plt.show()\n",
    "        \n",
    "    def find_closest_item_to_point(self, itemId, row, column, routing_policy):\n",
    "        min_distance = float('inf')\n",
    "        nearest_product_coordinates = None\n",
    "        \n",
    "        for i in range(self.rows):\n",
    "            for j in range(self.columns):\n",
    "                if self.warehouse_map[i][j] and self.warehouse_map[i][j].products:\n",
    "                    for product in self.warehouse_map[i][j].products:\n",
    "                        if product.id == itemId:\n",
    "                            distance = abs(row - i) + abs(column - j)\n",
    "                            if distance < min_distance:\n",
    "                                min_distance = distance\n",
    "                                nearest_product_coordinates = (i, j)\n",
    "        \n",
    "        return nearest_product_coordinates\n",
    "\n",
    "    \n",
    "    def visualize_product_location(self, products):\n",
    "            locations = list()\n",
    "            for item in products:\n",
    "                location = self.find_product_location(item.id, item.exemplar_id)\n",
    "                locations.append(location)\n",
    "\n",
    "            print(locations)\n",
    "            warehouse_matrix = np.zeros((self.rows, self.columns))\n",
    "\n",
    "            for i in range(self.rows):\n",
    "                for j in range(self.columns):\n",
    "                    if self.warehouse_map[i][j]:\n",
    "                        if (i, j) in locations:\n",
    "                            warehouse_matrix[i][j] = 100\n",
    "                        else:\n",
    "                            warehouse_matrix[i][j] = 0\n",
    "                    else:\n",
    "                        warehouse_matrix[i][j] = np.nan\n",
    "\n",
    "            plt.figure(figsize=(20,20))\n",
    "        \n",
    "            plt.imshow(warehouse_matrix, cmap='RdYlGn', interpolation='nearest', vmin=0, vmax=100)\n",
    "            plt.colorbar(label='Occupancy Ratio')\n",
    "            plt.title('Warehouse Contents')\n",
    "            plt.xlabel('Columns')\n",
    "            plt.ylabel('Rows')\n",
    "            plt.xticks(range(self.columns))\n",
    "            plt.yticks(range(self.rows))\n",
    "            plt.grid(True)\n",
    "            plt.show()\n",
    "            \n",
    "    def visualize_specific_locations(self, locations):\n",
    "            warehouse_matrix = np.zeros((self.rows, self.columns))\n",
    "\n",
    "            for i in range(self.rows):\n",
    "                for j in range(self.columns):\n",
    "                    if self.warehouse_map[i][j]:\n",
    "                        if (i, j) in locations:\n",
    "                            warehouse_matrix[i][j] = 100\n",
    "                        else:\n",
    "                            warehouse_matrix[i][j] = 0\n",
    "                    else:\n",
    "                        warehouse_matrix[i][j] = np.nan\n",
    "\n",
    "            plt.figure(figsize=(20,20))\n",
    "            plt.imshow(warehouse_matrix, cmap='RdYlGn', interpolation='nearest', vmin=0, vmax=100)\n",
    "            plt.colorbar(label='Occupancy Ratio')\n",
    "            plt.title('Warehouse Contents')\n",
    "            plt.xlabel('Columns')\n",
    "            plt.ylabel('Rows')\n",
    "            plt.xticks(range(self.columns))\n",
    "            plt.yticks(range(self.rows))\n",
    "            plt.grid(True)\n",
    "            plt.show()\n",
    "\n",
    "    def find_product_location(self, item_id, exemplar_id):\n",
    "        for i in range(self.rows):\n",
    "            for j in range(self.columns):\n",
    "                if self.warehouse_map[i][j] and self.warehouse_map[i][j].products:\n",
    "                    for product in self.warehouse_map[i][j].products:\n",
    "                        if product.id == item_id and product.exemplar_id == exemplar_id:\n",
    "                            return i, j \n",
    "        return None \n",
    "    \n",
    "    def visualize_picking_route(self, route, item_locations):\n",
    "        warehouse_matrix = np.zeros((self.rows, self.columns))\n",
    "        plt.figure(figsize=(20,20))\n",
    "        for i in range(len(route) - 1):\n",
    "            current_location = route[i]\n",
    "            next_location = route[i + 1]\n",
    "            x1, y1 = current_location\n",
    "            x2, y2 = next_location\n",
    "            plt.plot([y1, y2], [x1, x2], color='blue', linewidth=2)\n",
    "\n",
    "        for i in range(self.rows):\n",
    "            for j in range(self.columns):\n",
    "                if self.warehouse_map[i][j]:                    \n",
    "                    warehouse_matrix[i][j] = 0\n",
    "                    if (i, j) in item_locations:\n",
    "                        warehouse_matrix[i][j] = 100\n",
    "                else:\n",
    "                    warehouse_matrix[i][j] = np.nan\n",
    "                    \n",
    "        plt.imshow(warehouse_matrix, cmap='RdYlGn', interpolation='nearest', vmin=0, vmax=100)\n",
    "        plt.colorbar(label='Occupancy Ratio')\n",
    "        plt.title('Picking Route')\n",
    "        plt.xlabel('Columns')\n",
    "        plt.ylabel('Rows')\n",
    "        plt.xticks(range(self.columns))\n",
    "        plt.yticks(range(self.rows))\n",
    "        plt.grid(True)\n",
    "        plt.show()\n",
    "\n",
    "    def L1_distance(self, point1, point2): ## L1 dist\n",
    "        x1, y1 = point1\n",
    "        x2, y2 = point2\n",
    "        return abs(x2 - x1) + abs(y2 - y1)\n",
    "    \n",
    "    def perform_order_pick(self, routing_policy, locations_with_items, visualize):\n",
    "        counter = 0\n",
    "        route = []  \n",
    "        locations = [o[0] for o in locations_with_items]\n",
    "        for product_with_locations in locations_with_items:\n",
    "            product = product_with_locations[1]\n",
    "            location = product_with_locations[0]\n",
    "            self.warehouse_map[location[0]][location[1]].remove_product(product)\n",
    "\n",
    "        if(routing_policy == 's_shape'):\n",
    "            locations = sorted(locations, key = lambda x: x[1])\n",
    "            route.append((0,0))\n",
    "            visited_columns = set()\n",
    "            on_other_side = False\n",
    "            for location in locations:\n",
    "                target_column = location[1]\n",
    "                if target_column in visited_columns:\n",
    "                    continue\n",
    "                visited_columns.add(target_column)\n",
    "                if(self.warehouse_map[2][target_column+1] is not None):\n",
    "                    visited_columns.add(target_column - 2)\n",
    "                    target_column = target_column - 1\n",
    "                else:\n",
    "                    target_column = target_column + 1\n",
    "                    visited_columns.add(target_column + 2)\n",
    "\n",
    "                if(on_other_side):\n",
    "                    route.append((18, target_column))\n",
    "                    route.append((0, target_column))\n",
    "                    on_other_side = False\n",
    "                else:\n",
    "                    route.append((0, target_column))\n",
    "                    route.append((18, target_column))\n",
    "                    on_other_side = True\n",
    "            \n",
    "            if(on_other_side):\n",
    "                col = locations[len(locations)-1][1]\n",
    "                if(self.warehouse_map[2][col+1] is not None):\n",
    "                    col = col - 1\n",
    "                else:\n",
    "                    col = col + 1\n",
    "                route.append((18, col))\n",
    "                route.append((18, 0))\n",
    "                \n",
    "            route.append((0, 0))\n",
    "            if(visualize == True):\n",
    "                print(route)  \n",
    "                self.visualize_picking_route(route, locations)\n",
    "            for i in range(len(route) - 1):\n",
    "                counter += self.L1_distance(route[i], route[i+1]) \n",
    "            return counter\n",
    "\n",
    "        if(routing_policy == 'return'): \n",
    "            locations = sorted(locations, key = lambda x: x[1])\n",
    "            route.append((0,0))\n",
    "            visited_columns = set()\n",
    "            for location in locations:\n",
    "                target_column = location[1]\n",
    "                if target_column in visited_columns:\n",
    "                    continue\n",
    "                visited_columns.add(target_column)\n",
    "                max_x = float('-inf') \n",
    "                if(self.warehouse_map[2][target_column+1] is not None):\n",
    "                    visited_columns.add(target_column - 2)\n",
    "                    target_column = target_column - 1\n",
    "                    for x, y in locations:\n",
    "                        if y == target_column + 1 and x > max_x:\n",
    "                            max_x = x\n",
    "                else:\n",
    "                    target_column = target_column + 1\n",
    "                    visited_columns.add(target_column + 2)\n",
    "                    for x, y in locations:\n",
    "                        if y == target_column - 1 and x > max_x:\n",
    "                            max_x = x\n",
    "\n",
    "                for x, y in locations:\n",
    "                    if y == target_column and x > max_x:\n",
    "                        max_x = x\n",
    "\n",
    "                route.append((0, target_column))\n",
    "                route.append((max_x, target_column))\n",
    "                route.append((0, target_column))\n",
    "            \n",
    "            col = locations[len(locations)-1][1]\n",
    "            if(self.warehouse_map[2][col+1] is not None):\n",
    "                col = col - 1\n",
    "            else:\n",
    "                col = col + 1\n",
    "            route.append((0, col))\n",
    "            route.append((0,0))\n",
    "            if(visualize == True):\n",
    "                print(route)  \n",
    "                self.visualize_picking_route(route, locations)\n",
    "            for i in range(len(route) - 1):\n",
    "                counter += self.L1_distance(route[i], route[i+1]) \n",
    "\n",
    "        return counter\n",
    "\n",
    "    def place_product(self, product, routing_policy):\n",
    "        if(routing_policy == 's_shape'):\n",
    "            for col in range(1,41):\n",
    "                for row in range(2, 18):\n",
    "                    if(col % 3 != 0):\n",
    "                        if self.warehouse_map[row][col] is not None and self.warehouse_map[row][col].check_fit(product):\n",
    "                            shelf = self.warehouse_map[row][col]\n",
    "                            shelf.add_product(product)\n",
    "                            return\n",
    "        elif(routing_policy == 'return'):\n",
    "            for row in range(2,18):\n",
    "                for col in range(1, 41):\n",
    "                    if(col % 3 != 0):\n",
    "                        if self.warehouse_map[row][col] is not None and self.warehouse_map[row][col].check_fit(product):\n",
    "                            shelf = self.warehouse_map[row][col]\n",
    "                            shelf.add_product(product)\n",
    "                            return\n",
    "        elif(routing_policy == 'random'):\n",
    "            while(True):\n",
    "                row = random.randint(2, 18)\n",
    "                col = random.randint(1, 41)\n",
    "                if(col % 3 != 0):\n",
    "                    if self.warehouse_map[row][col] is not None and self.warehouse_map[row][col].check_fit(product):\n",
    "                        shelf = self.warehouse_map[row][col]\n",
    "                        shelf.add_product(product)\n",
    "                        return           "
   ]
  },
  {
   "cell_type": "code",
   "execution_count": null,
   "metadata": {},
   "outputs": [],
   "source": [
    "def create_warehouse(asile_lenght = 1, asile_size = 1, asile = 1):\n",
    "    warehouse = Warehouse(20, 42)\n",
    "\n",
    "    for row in range(2,18):\n",
    "        for col in range(1, 41):\n",
    "            if col % 3 == 1 or col % 3 == 2:\n",
    "                warehouse.add_shelf(row, col, 5)\n",
    "    return warehouse"
   ]
  },
  {
   "cell_type": "code",
   "execution_count": null,
   "metadata": {},
   "outputs": [],
   "source": [
    "total_number_of_sales = 0\n",
    "for index, row in idc_1.iterrows():\n",
    "        total_number_of_sales += row['AdsNum'] * row['StockAvailDays']\n",
    "        "
   ]
  },
  {
   "cell_type": "code",
   "execution_count": null,
   "metadata": {},
   "outputs": [],
   "source": [
    "total_number_of_sales"
   ]
  },
  {
   "cell_type": "code",
   "execution_count": null,
   "metadata": {},
   "outputs": [],
   "source": [
    "def get_product_list():\n",
    "    product_list = list() \n",
    "    for index, row in idc_1.iterrows():\n",
    "            curr_stock = 1\n",
    "            curr_volume = row['Volume']\n",
    "            for i in range(row['CurrentStock']):\n",
    "                product = Product(id=row['ItemId'], volume_liters=row['Volume'], idc=curr_stock/row['AdsNum'], coi = (row['Volume']*row['CurrentStock'])/((row['AdsNum'] * row['StockAvailDays'])/28), coi_with_ads = (curr_volume)/(row['AdsNum']), exemplar_id = i)\n",
    "                product_list.append(product)\n",
    "                curr_stock += 1\n",
    "                curr_volume += curr_volume\n",
    "    return product_list"
   ]
  },
  {
   "cell_type": "code",
   "execution_count": null,
   "metadata": {},
   "outputs": [],
   "source": [
    "def get_exemplars_order(products, item_id, already_taken_product, metric):\n",
    "    filtered_products = [product for product in products if product.id == item_id and (product.id, product.exemplar_id) not in already_taken_product]\n",
    "    \n",
    "    if not filtered_products:\n",
    "        return None\n",
    "    if(metric == 'idc'):\n",
    "        lowest_idc_product = filtered_products[0]\n",
    "        for product in filtered_products:\n",
    "            if product.idc < lowest_idc_product.idc:\n",
    "                lowest_idc_product = product\n",
    "        return lowest_idc_product    \n",
    "    if(metric == 'coi'):\n",
    "        lowest_coi_product = filtered_products[0]\n",
    "        for product in filtered_products:\n",
    "            if product.coi < lowest_coi_product.coi:\n",
    "                lowest_coi_product = product\n",
    "        return lowest_coi_product\n",
    "    if(metric == 'random'):\n",
    "        return random.choice(filtered_products)    "
   ]
  },
  {
   "cell_type": "code",
   "execution_count": null,
   "metadata": {},
   "outputs": [],
   "source": [
    "product_list = get_product_list()"
   ]
  },
  {
   "cell_type": "markdown",
   "metadata": {},
   "source": [
    "## Shared"
   ]
  },
  {
   "cell_type": "code",
   "execution_count": null,
   "metadata": {},
   "outputs": [],
   "source": [
    "statistics = {}"
   ]
  },
  {
   "cell_type": "code",
   "execution_count": null,
   "metadata": {},
   "outputs": [],
   "source": [
    "period_statistics = {}"
   ]
  },
  {
   "cell_type": "markdown",
   "metadata": {},
   "source": [
    "## IDC s_shape"
   ]
  },
  {
   "cell_type": "code",
   "execution_count": null,
   "metadata": {},
   "outputs": [],
   "source": [
    "warehouse = create_warehouse()"
   ]
  },
  {
   "cell_type": "code",
   "execution_count": null,
   "metadata": {},
   "outputs": [],
   "source": [
    "product_list = sorted(product_list, key = lambda x: x.idc)\n",
    "\n",
    "\n",
    "for product in product_list:\n",
    "    nearest_empty_cell = warehouse.place_product(product, 's_shape')\n",
    "\n",
    "warehouse.visualize_warehouse('occupancy')"
   ]
  },
  {
   "cell_type": "code",
   "execution_count": null,
   "metadata": {},
   "outputs": [],
   "source": [
    "warehouse.visualize_warehouse('idc')"
   ]
  },
  {
   "cell_type": "code",
   "execution_count": null,
   "metadata": {},
   "outputs": [],
   "source": [
    "product_ids = [p.id for p in product_list]\n",
    "\n",
    "unique_product_ids = list(set(product_ids))\n",
    "df_sales_1 = orders_to_take[orders_to_take['RezonItemId'].isin(unique_product_ids)]\n"
   ]
  },
  {
   "cell_type": "code",
   "execution_count": null,
   "metadata": {},
   "outputs": [],
   "source": [
    "df_sales_1 = df_sales_1[df_sales_1['Quantity'] == 1]"
   ]
  },
  {
   "cell_type": "code",
   "execution_count": null,
   "metadata": {},
   "outputs": [],
   "source": [
    "df_sales_1 = df_sales_1[df_sales_1['Quantity'] == 1]"
   ]
  },
  {
   "cell_type": "code",
   "execution_count": null,
   "metadata": {},
   "outputs": [],
   "source": [
    "df_sales_period['Quantity'] = 1"
   ]
  },
  {
   "cell_type": "code",
   "execution_count": null,
   "metadata": {},
   "outputs": [],
   "source": [
    "df_sales_period"
   ]
  },
  {
   "cell_type": "code",
   "execution_count": null,
   "metadata": {},
   "outputs": [],
   "source": [
    "unique_orders = df_sales_1['OmsPostingId'].unique()"
   ]
  },
  {
   "cell_type": "code",
   "execution_count": null,
   "metadata": {},
   "outputs": [],
   "source": [
    "print(\"Статистика пробега s-shape пробегов размещения модели для IDC\")\n",
    "stat = []\n",
    "order_stat = []\n",
    "close_to_drop_stat = []\n",
    "already_picked_items = list()\n",
    "for order_id in unique_orders:\n",
    "    order_items = df_sales_1[df_sales_1['OmsPostingId'] == order_id]\n",
    "    exemplars_in_order = list()\n",
    "    locations = list()\n",
    "\n",
    "    print(order_id)\n",
    "    for _, item in order_items.iterrows():\n",
    "        for i in range(item['Quantity']):\n",
    "            exmp = get_exemplars_order(product_list, item['RezonItemId'], already_picked_items, 'idc')\n",
    "            already_picked_items.append((exmp.id, exmp.exemplar_id))\n",
    "            location = warehouse.find_product_location(exmp.id, exmp.exemplar_id)\n",
    "            if(location is None):\n",
    "                continue\n",
    "            locations.append((location, exmp))\n",
    "            close_to_drop_stat.append(abs(0 - location[0]) + abs(0 - location[1]))\n",
    "            exemplars_in_order.append(exmp)\n",
    "    if(len(locations) == 0):\n",
    "        continue\n",
    "    print(already_picked_items)\n",
    "    dist = warehouse.perform_order_pick(\"s_shape\", locations, True)\n",
    "    stat.append(dist)\n",
    "    order_stat.append(len(locations))"
   ]
  },
  {
   "cell_type": "code",
   "execution_count": null,
   "metadata": {},
   "outputs": [],
   "source": [
    "unique_dates = df_sales_period['Date'].unique()\n",
    "\n",
    "print(\"Статистика пробега s-shape пробегов за период 30 дней размещения модели для IDC\")\n",
    "\n",
    "for date in unique_dates:\n",
    "    stat_period = []\n",
    "    order_stat_period = []\n",
    "    close_to_drop_stat_period = []\n",
    "    already_picked_items_period = list()\n",
    "    orders_for_date = df_sales_period[df_sales_period['Date'] == date]\n",
    "    unique_orders_for_date = orders_for_date['OmsPostingId'].unique()\n",
    "    for order_id in unique_orders_for_date:\n",
    "        order_items = orders_for_date[orders_for_date['OmsPostingId'] == order_id]\n",
    "        exemplars_in_order = list()\n",
    "        locations = list()\n",
    "\n",
    "        print(order_id)\n",
    "        for _, item in order_items.iterrows():\n",
    "            for i in range(item['Quantity']):\n",
    "                exmp = get_exemplars_order(product_list, item['RezonItemId'], already_picked_items, 'idc')\n",
    "                if(exmp is None):\n",
    "                    continue\n",
    "                already_picked_items_period.append((exmp.id, exmp.exemplar_id))\n",
    "                location = warehouse.find_product_location(exmp.id, exmp.exemplar_id)\n",
    "                if(location is None):\n",
    "                    continue\n",
    "                locations.append((location, exmp))\n",
    "                close_to_drop_stat_period.append(abs(0 - location[0]) + abs(0 - location[1]))\n",
    "                exemplars_in_order.append(exmp)\n",
    "        if(len(locations) == 0):\n",
    "            continue\n",
    "        print(already_picked_items)\n",
    "        dist = warehouse.perform_order_pick(\"s_shape\", locations, True)\n",
    "        stat_period.append(dist)\n",
    "        order_stat_period.append(len(locations))\n",
    "    period_statistics[(date, 'IDC s_shape')] = {'mean' : np.mean(stat_period), \n",
    "                                                'median': np.median(sorted(stat_period)), \n",
    "                                                'sum': sum(stat_period), \n",
    "                                                'avg num of items': np.mean(order_stat_period), \n",
    "                                                'order_dist' : stat_period, \n",
    "                                                'mean dist to drop': np.mean(close_to_drop_stat_period), \n",
    "                                                'median dist to drop': np.median(close_to_drop_stat_period), \n",
    "                                                'dist to dtop': close_to_drop_stat_period}"
   ]
  },
  {
   "cell_type": "code",
   "execution_count": null,
   "metadata": {},
   "outputs": [],
   "source": [
    "order_items"
   ]
  },
  {
   "cell_type": "code",
   "execution_count": null,
   "metadata": {},
   "outputs": [],
   "source": [
    "np.mean(stat)"
   ]
  },
  {
   "cell_type": "code",
   "execution_count": null,
   "metadata": {},
   "outputs": [],
   "source": [
    "np.median(sorted(stat))"
   ]
  },
  {
   "cell_type": "code",
   "execution_count": null,
   "metadata": {},
   "outputs": [],
   "source": [
    "sum(stat)"
   ]
  },
  {
   "cell_type": "code",
   "execution_count": null,
   "metadata": {},
   "outputs": [],
   "source": [
    "statistics['IDC s-shape'] = {'mean' : np.mean(stat), 'median': np.median(sorted(stat)), 'sum': sum(stat), 'avg num of items': np.mean(order_stat), 'order_dist' : stat, 'mean dist to drop': np.mean(close_to_drop_stat), 'median dist to drop': np.median(close_to_drop_stat), 'dist to dtop': close_to_drop_stat}"
   ]
  },
  {
   "cell_type": "code",
   "execution_count": null,
   "metadata": {},
   "outputs": [],
   "source": [
    "warehouse.visualize_warehouse('idc')"
   ]
  },
  {
   "cell_type": "code",
   "execution_count": null,
   "metadata": {},
   "outputs": [],
   "source": [
    "warehouse.visualize_warehouse('occupancy')"
   ]
  },
  {
   "cell_type": "markdown",
   "metadata": {},
   "source": [
    "## IDC return"
   ]
  },
  {
   "cell_type": "code",
   "execution_count": null,
   "metadata": {},
   "outputs": [],
   "source": [
    "warehouse = create_warehouse()"
   ]
  },
  {
   "cell_type": "code",
   "execution_count": null,
   "metadata": {},
   "outputs": [],
   "source": [
    "product_list = sorted(product_list, key = lambda x: x.idc)\n",
    "\n",
    "\n",
    "for product in product_list:\n",
    "    nearest_empty_cell = warehouse.place_product(product, 'return')\n",
    "\n",
    "warehouse.visualize_warehouse('occupancy')"
   ]
  },
  {
   "cell_type": "code",
   "execution_count": null,
   "metadata": {},
   "outputs": [],
   "source": [
    "warehouse.visualize_warehouse('idc')"
   ]
  },
  {
   "cell_type": "code",
   "execution_count": null,
   "metadata": {},
   "outputs": [],
   "source": [
    "print(\"Статистика пробега s-shape пробегов размещения модели для IDC\")\n",
    "stat = []\n",
    "order_stat = []\n",
    "close_to_drop_stat = []\n",
    "already_picked_items = list()\n",
    "for order_id in unique_orders:\n",
    "    order_items = df_sales_1[df_sales_1['OmsPostingId'] == order_id]\n",
    "    exemplars_in_order = list()\n",
    "    locations = list()\n",
    "\n",
    "    print(order_id)\n",
    "    for _, item in order_items.iterrows():\n",
    "        for i in range(item['Quantity']):\n",
    "            exmp = get_exemplars_order(product_list, item['RezonItemId'], already_picked_items, 'idc')\n",
    "            already_picked_items.append((exmp.id, exmp.exemplar_id))\n",
    "            location = warehouse.find_product_location(exmp.id, exmp.exemplar_id)\n",
    "            if(location is None):\n",
    "                continue\n",
    "            locations.append((location, exmp))\n",
    "            close_to_drop_stat.append(abs(0 - location[0]) + abs(0 - location[1]))\n",
    "            exemplars_in_order.append(exmp)\n",
    "    if(len(locations) == 0):\n",
    "        continue\n",
    "    print(already_picked_items)\n",
    "    dist = warehouse.perform_order_pick(\"return\", locations, True)\n",
    "    stat.append(dist)\n",
    "    order_stat.append(len(locations))"
   ]
  },
  {
   "cell_type": "code",
   "execution_count": null,
   "metadata": {},
   "outputs": [],
   "source": [
    "unique_dates = df_sales_period['Date'].unique()\n",
    "\n",
    "print(\"Статистика пробега return пробегов за период 30 дней размещения модели для IDC\")\n",
    "\n",
    "for date in unique_dates:\n",
    "    stat_period = []\n",
    "    order_stat_period = []\n",
    "    close_to_drop_stat_period = []\n",
    "    already_picked_items_period = list()\n",
    "    orders_for_date = df_sales_period[df_sales_period['Date'] == date]\n",
    "    unique_orders_for_date = orders_for_date['OmsPostingId'].unique()\n",
    "    for order_id in unique_orders_for_date:\n",
    "        order_items = orders_for_date[orders_for_date['OmsPostingId'] == order_id]\n",
    "        exemplars_in_order = list()\n",
    "        locations = list()\n",
    "\n",
    "        print(order_id)\n",
    "        for _, item in order_items.iterrows():\n",
    "            for i in range(item['Quantity']):\n",
    "                exmp = get_exemplars_order(product_list, item['RezonItemId'], already_picked_items, 'idc')\n",
    "                if(exmp is None):\n",
    "                    continue\n",
    "                already_picked_items_period.append((exmp.id, exmp.exemplar_id))\n",
    "                location = warehouse.find_product_location(exmp.id, exmp.exemplar_id)\n",
    "                if(location is None):\n",
    "                    continue\n",
    "                locations.append((location, exmp))\n",
    "                close_to_drop_stat_period.append(abs(0 - location[0]) + abs(0 - location[1]))\n",
    "                exemplars_in_order.append(exmp)\n",
    "        if(len(locations) == 0):\n",
    "            continue\n",
    "        print(already_picked_items)\n",
    "        dist = warehouse.perform_order_pick(\"return\", locations, True)\n",
    "        stat_period.append(dist)\n",
    "        order_stat_period.append(len(locations))\n",
    "    period_statistics[(date, 'IDC return')] = {'mean' : np.mean(stat_period), \n",
    "                                                'median': np.median(sorted(stat_period)), \n",
    "                                                'sum': sum(stat_period), \n",
    "                                                'avg num of items': np.mean(order_stat_period), \n",
    "                                                'order_dist' : stat_period, \n",
    "                                                'mean dist to drop': np.mean(close_to_drop_stat_period), \n",
    "                                                'median dist to drop': np.median(close_to_drop_stat_period), \n",
    "                                                'dist to dtop': close_to_drop_stat_period}"
   ]
  },
  {
   "cell_type": "code",
   "execution_count": null,
   "metadata": {},
   "outputs": [],
   "source": [
    "np.mean(stat)"
   ]
  },
  {
   "cell_type": "code",
   "execution_count": null,
   "metadata": {},
   "outputs": [],
   "source": [
    "np.median(sorted(stat))"
   ]
  },
  {
   "cell_type": "code",
   "execution_count": null,
   "metadata": {},
   "outputs": [],
   "source": [
    "sum(stat)"
   ]
  },
  {
   "cell_type": "code",
   "execution_count": null,
   "metadata": {},
   "outputs": [],
   "source": [
    "statistics['IDC return'] = {'mean' : np.mean(stat), 'median': np.median(sorted(stat)), 'sum': sum(stat) , 'avg num of items': np.mean(order_stat), 'order_dist' : stat, 'mean dist to drop': np.mean(close_to_drop_stat), 'median dist to drop': np.median(close_to_drop_stat), 'dist to dtop': close_to_drop_stat}"
   ]
  },
  {
   "cell_type": "code",
   "execution_count": null,
   "metadata": {},
   "outputs": [],
   "source": [
    "warehouse.visualize_warehouse('idc')"
   ]
  },
  {
   "cell_type": "code",
   "execution_count": null,
   "metadata": {},
   "outputs": [],
   "source": [
    "warehouse.visualize_warehouse('occupancy')"
   ]
  },
  {
   "cell_type": "markdown",
   "metadata": {},
   "source": [
    "## COI s_shape"
   ]
  },
  {
   "cell_type": "code",
   "execution_count": null,
   "metadata": {},
   "outputs": [],
   "source": [
    "warehouse = create_warehouse()\n",
    "\n",
    "product_list = sorted(product_list, key = lambda x: x.coi)\n",
    "\n",
    "for product in product_list:\n",
    "    nearest_empty_cell = warehouse.place_product(product, 's_shape')\n",
    "\n",
    "warehouse.visualize_warehouse('occupancy')"
   ]
  },
  {
   "cell_type": "code",
   "execution_count": null,
   "metadata": {},
   "outputs": [],
   "source": [
    "warehouse.visualize_warehouse('coi')"
   ]
  },
  {
   "cell_type": "code",
   "execution_count": null,
   "metadata": {},
   "outputs": [],
   "source": [
    "warehouse.visualize_warehouse('idc')"
   ]
  },
  {
   "cell_type": "code",
   "execution_count": null,
   "metadata": {},
   "outputs": [],
   "source": [
    "df_sales_1"
   ]
  },
  {
   "cell_type": "code",
   "execution_count": null,
   "metadata": {},
   "outputs": [],
   "source": [
    "print(\"Статистика пробега s-shape пробегов размещения модели для COI\")\n",
    "stat = []\n",
    "order_stat = []\n",
    "close_to_drop_stat = []\n",
    "already_picked_items = list()\n",
    "for order_id in unique_orders:\n",
    "    order_items = df_sales_1[df_sales_1['OmsPostingId'] == order_id]\n",
    "    exemplars_in_order = list()\n",
    "    locations = list()\n",
    "\n",
    "    print(order_id)\n",
    "    for _, item in order_items.iterrows():\n",
    "        for i in range(item['Quantity']):\n",
    "            exmp = get_exemplars_order(product_list, item['RezonItemId'], already_picked_items, 'coi')\n",
    "            already_picked_items.append((exmp.id, exmp.exemplar_id))\n",
    "            location = warehouse.find_product_location(exmp.id, exmp.exemplar_id)\n",
    "            if(location is None):\n",
    "                continue\n",
    "            locations.append((location, exmp))\n",
    "            close_to_drop_stat.append(abs(0 - location[0]) + abs(0 - location[1]))\n",
    "            exemplars_in_order.append(exmp)\n",
    "    if(len(locations) == 0):\n",
    "        continue\n",
    "    print(already_picked_items)\n",
    "    dist = warehouse.perform_order_pick(\"s_shape\", locations, True)\n",
    "    stat.append(dist)\n",
    "    order_stat.append(len(locations))"
   ]
  },
  {
   "cell_type": "code",
   "execution_count": null,
   "metadata": {},
   "outputs": [],
   "source": [
    "unique_dates = df_sales_period['Date'].unique()\n",
    "\n",
    "print(\"Статистика пробега return пробегов за период 30 дней размещения модели для COI\")\n",
    "\n",
    "for date in unique_dates:\n",
    "    stat_period = []\n",
    "    order_stat_period = []\n",
    "    close_to_drop_stat_period = []\n",
    "    already_picked_items_period = list()\n",
    "    orders_for_date = df_sales_period[df_sales_period['Date'] == date]\n",
    "    unique_orders_for_date = orders_for_date['OmsPostingId'].unique()\n",
    "    for order_id in unique_orders_for_date:\n",
    "        order_items = orders_for_date[orders_for_date['OmsPostingId'] == order_id]\n",
    "        exemplars_in_order = list()\n",
    "        locations = list()\n",
    "\n",
    "        print(order_id)\n",
    "        for _, item in order_items.iterrows():\n",
    "            for i in range(item['Quantity']):\n",
    "                exmp = get_exemplars_order(product_list, item['RezonItemId'], already_picked_items, 'idc')\n",
    "                if(exmp is None):\n",
    "                    continue\n",
    "                already_picked_items_period.append((exmp.id, exmp.exemplar_id))\n",
    "                location = warehouse.find_product_location(exmp.id, exmp.exemplar_id)\n",
    "                if(location is None):\n",
    "                    continue\n",
    "                locations.append((location, exmp))\n",
    "                close_to_drop_stat_period.append(abs(0 - location[0]) + abs(0 - location[1]))\n",
    "                exemplars_in_order.append(exmp)\n",
    "        if(len(locations) == 0):\n",
    "            continue\n",
    "        print(already_picked_items)\n",
    "        dist = warehouse.perform_order_pick(\"s_shape\", locations, True)\n",
    "        stat_period.append(dist)\n",
    "        order_stat_period.append(len(locations))\n",
    "    period_statistics[(date, 'COI s_shape')] = {'mean' : np.mean(stat_period), \n",
    "                                                'median': np.median(sorted(stat_period)), \n",
    "                                                'sum': sum(stat_period), \n",
    "                                                'avg num of items': np.mean(order_stat_period), \n",
    "                                                'order_dist' : stat_period, \n",
    "                                                'mean dist to drop': np.mean(close_to_drop_stat_period), \n",
    "                                                'median dist to drop': np.median(close_to_drop_stat_period), \n",
    "                                                'dist to dtop': close_to_drop_stat_period}"
   ]
  },
  {
   "cell_type": "code",
   "execution_count": null,
   "metadata": {},
   "outputs": [],
   "source": [
    "np.mean(stat)"
   ]
  },
  {
   "cell_type": "code",
   "execution_count": null,
   "metadata": {},
   "outputs": [],
   "source": [
    "np.median(sorted(stat))"
   ]
  },
  {
   "cell_type": "code",
   "execution_count": null,
   "metadata": {},
   "outputs": [],
   "source": [
    "sum(stat)"
   ]
  },
  {
   "cell_type": "code",
   "execution_count": null,
   "metadata": {},
   "outputs": [],
   "source": [
    "statistics['COI s-shape'] = {'mean' : np.mean(stat), 'median': np.median(sorted(stat)), 'sum': sum(stat), 'avg num of items': np.mean(order_stat), 'order_dist' : stat, 'mean dist to drop': np.mean(close_to_drop_stat), 'median dist to drop': np.median(close_to_drop_stat), 'dist to dtop': close_to_drop_stat}"
   ]
  },
  {
   "cell_type": "code",
   "execution_count": null,
   "metadata": {},
   "outputs": [],
   "source": [
    "warehouse = create_warehouse()\n",
    "\n",
    "product_list = sorted(product_list, key = lambda x: x.coi)\n",
    "\n",
    "for product in product_list:\n",
    "    nearest_empty_cell = warehouse.place_product(product, 's_shape')\n",
    "\n",
    "warehouse.visualize_warehouse('occupancy')"
   ]
  },
  {
   "cell_type": "markdown",
   "metadata": {},
   "source": [
    "## COI return shape"
   ]
  },
  {
   "cell_type": "code",
   "execution_count": null,
   "metadata": {},
   "outputs": [],
   "source": [
    "warehouse = create_warehouse()\n",
    "\n",
    "product_list = sorted(product_list, key = lambda x: x.coi)\n",
    "\n",
    "for product in product_list:\n",
    "    nearest_empty_cell = warehouse.place_product(product, 'return')\n",
    "\n",
    "warehouse.visualize_warehouse('occupancy')"
   ]
  },
  {
   "cell_type": "code",
   "execution_count": null,
   "metadata": {},
   "outputs": [],
   "source": [
    "warehouse.visualize_warehouse('coi')"
   ]
  },
  {
   "cell_type": "code",
   "execution_count": null,
   "metadata": {},
   "outputs": [],
   "source": [
    "warehouse.visualize_warehouse('coi')"
   ]
  },
  {
   "cell_type": "code",
   "execution_count": null,
   "metadata": {},
   "outputs": [],
   "source": [
    "warehouse.visualize_warehouse('idc')"
   ]
  },
  {
   "cell_type": "code",
   "execution_count": null,
   "metadata": {},
   "outputs": [],
   "source": [
    "print(\"Статистика пробега return пробегов размещения модели для COI\")\n",
    "stat = []\n",
    "order_stat = []\n",
    "close_to_drop_stat = []\n",
    "already_picked_items = list()\n",
    "for order_id in unique_orders:\n",
    "    order_items = df_sales_1[df_sales_1['OmsPostingId'] == order_id]\n",
    "    exemplars_in_order = list()\n",
    "    locations = list()\n",
    "\n",
    "    print(order_id)\n",
    "    for _, item in order_items.iterrows():\n",
    "        for i in range(item['Quantity']):\n",
    "            exmp = get_exemplars_order(product_list, item['RezonItemId'], already_picked_items, 'coi')\n",
    "            if(exmp is None):\n",
    "                continue\n",
    "            already_picked_items.append((exmp.id, exmp.exemplar_id))\n",
    "            location = warehouse.find_product_location(exmp.id, exmp.exemplar_id)\n",
    "            if(location is None):\n",
    "                continue\n",
    "            locations.append((location, exmp))\n",
    "            close_to_drop_stat.append(abs(0 - location[0]) + abs(0 - location[1]))\n",
    "            exemplars_in_order.append(exmp)\n",
    "    if(len(locations) == 0):\n",
    "        continue\n",
    "    print(already_picked_items)\n",
    "    dist = warehouse.perform_order_pick(\"return\", locations, True)\n",
    "    stat.append(dist)\n",
    "    order_stat.append(len(locations))"
   ]
  },
  {
   "cell_type": "code",
   "execution_count": null,
   "metadata": {},
   "outputs": [],
   "source": [
    "unique_dates = df_sales_period['Date'].unique()\n",
    "\n",
    "print(\"Статистика пробега return пробегов за период 30 дней размещения модели для COI\")\n",
    "\n",
    "for date in unique_dates:\n",
    "    stat_period = []\n",
    "    order_stat_period = []\n",
    "    close_to_drop_stat_period = []\n",
    "    already_picked_items_period = list()\n",
    "    orders_for_date = df_sales_period[df_sales_period['Date'] == date]\n",
    "    unique_orders_for_date = orders_for_date['OmsPostingId'].unique()\n",
    "    for order_id in unique_orders_for_date:\n",
    "        order_items = orders_for_date[orders_for_date['OmsPostingId'] == order_id]\n",
    "        exemplars_in_order = list()\n",
    "        locations = list()\n",
    "\n",
    "        print(order_id)\n",
    "        for _, item in order_items.iterrows():\n",
    "            for i in range(item['Quantity']):\n",
    "                exmp = get_exemplars_order(product_list, item['RezonItemId'], already_picked_items, 'idc')\n",
    "                if(exmp is None):\n",
    "                    continue\n",
    "                already_picked_items_period.append((exmp.id, exmp.exemplar_id))\n",
    "                location = warehouse.find_product_location(exmp.id, exmp.exemplar_id)\n",
    "                if(location is None):\n",
    "                    continue\n",
    "                locations.append((location, exmp))\n",
    "                close_to_drop_stat_period.append(abs(0 - location[0]) + abs(0 - location[1]))\n",
    "                exemplars_in_order.append(exmp)\n",
    "        if(len(locations) == 0):\n",
    "            continue\n",
    "        print(already_picked_items)\n",
    "        dist = warehouse.perform_order_pick(\"return\", locations, True)\n",
    "        stat_period.append(dist)\n",
    "        order_stat_period.append(len(locations))\n",
    "    period_statistics[(date,'COI return')] = {'mean' : np.mean(stat_period), \n",
    "                                                'median': np.median(sorted(stat_period)), \n",
    "                                                'sum': sum(stat_period), \n",
    "                                                'avg num of items': np.mean(order_stat_period), \n",
    "                                                'order_dist' : stat_period, \n",
    "                                                'mean dist to drop': np.mean(close_to_drop_stat_period), \n",
    "                                                'median dist to drop': np.median(close_to_drop_stat_period), \n",
    "                                                'dist to dtop': close_to_drop_stat_period}"
   ]
  },
  {
   "cell_type": "code",
   "execution_count": null,
   "metadata": {},
   "outputs": [],
   "source": [
    "np.mean(stat)"
   ]
  },
  {
   "cell_type": "code",
   "execution_count": null,
   "metadata": {},
   "outputs": [],
   "source": [
    "np.median(sorted(stat))"
   ]
  },
  {
   "cell_type": "code",
   "execution_count": null,
   "metadata": {},
   "outputs": [],
   "source": [
    "sum(stat)"
   ]
  },
  {
   "cell_type": "code",
   "execution_count": null,
   "metadata": {},
   "outputs": [],
   "source": [
    "statistics['COI return'] = {'mean' : np.mean(stat), 'median': np.median(sorted(stat)), 'sum': sum(stat), 'avg num of items': np.mean(order_stat), 'order_dist' : stat, 'mean dist to drop': np.mean(close_to_drop_stat), 'median dist to drop': np.median(close_to_drop_stat), 'dist to dtop': close_to_drop_stat}"
   ]
  },
  {
   "cell_type": "markdown",
   "metadata": {},
   "source": [
    "## COI with ads s-shape"
   ]
  },
  {
   "cell_type": "code",
   "execution_count": null,
   "metadata": {},
   "outputs": [],
   "source": [
    "warehouse = create_warehouse()\n",
    "\n",
    "product_list = sorted(product_list, key = lambda x: x.coi_with_ads)\n",
    "\n",
    "for product in product_list:\n",
    "    nearest_empty_cell = warehouse.place_product(product, 's_shape')\n",
    "\n",
    "warehouse.visualize_warehouse('occupancy')"
   ]
  },
  {
   "cell_type": "code",
   "execution_count": null,
   "metadata": {},
   "outputs": [],
   "source": [
    "warehouse.visualize_warehouse('coi')"
   ]
  },
  {
   "cell_type": "code",
   "execution_count": null,
   "metadata": {},
   "outputs": [],
   "source": [
    "warehouse.visualize_warehouse('coi')"
   ]
  },
  {
   "cell_type": "code",
   "execution_count": null,
   "metadata": {},
   "outputs": [],
   "source": [
    "warehouse.visualize_warehouse('idc')"
   ]
  },
  {
   "cell_type": "code",
   "execution_count": null,
   "metadata": {},
   "outputs": [],
   "source": [
    "print(\"Статистика пробега return пробегов размещения модели для COI with ads\")\n",
    "stat = []\n",
    "order_stat = []\n",
    "close_to_drop_stat = []\n",
    "already_picked_items = list()\n",
    "for order_id in unique_orders:\n",
    "    order_items = df_sales_1[df_sales_1['OmsPostingId'] == order_id]\n",
    "    exemplars_in_order = list()\n",
    "    locations = list()\n",
    "\n",
    "    print(order_id)\n",
    "    for _, item in order_items.iterrows():\n",
    "        for i in range(item['Quantity']):\n",
    "            exmp = get_exemplars_order(product_list, item['RezonItemId'], already_picked_items, 'coi')\n",
    "            already_picked_items.append((exmp.id, exmp.exemplar_id))\n",
    "            location = warehouse.find_product_location(exmp.id, exmp.exemplar_id)\n",
    "            if(location is None):\n",
    "                continue\n",
    "            locations.append((location, exmp))\n",
    "            close_to_drop_stat.append(abs(0 - location[0]) + abs(0 - location[1]))\n",
    "            exemplars_in_order.append(exmp)\n",
    "    if(len(locations) == 0):\n",
    "        continue\n",
    "    print(already_picked_items)\n",
    "    dist = warehouse.perform_order_pick(\"s_shape\", locations, True)\n",
    "    stat.append(dist)\n",
    "    order_stat.append(len(locations))"
   ]
  },
  {
   "cell_type": "code",
   "execution_count": null,
   "metadata": {},
   "outputs": [],
   "source": [
    "unique_dates = df_sales_period['Date'].unique()\n",
    "\n",
    "print(\"Статистика пробега return пробегов за период 30 дней размещения модели для COI\")\n",
    "\n",
    "for date in unique_dates:\n",
    "    stat_period = []\n",
    "    order_stat_period = []\n",
    "    close_to_drop_stat_period = []\n",
    "    already_picked_items_period = list()\n",
    "    orders_for_date = df_sales_period[df_sales_period['Date'] == date]\n",
    "    unique_orders_for_date = orders_for_date['OmsPostingId'].unique()\n",
    "    for order_id in unique_orders_for_date:\n",
    "        order_items = orders_for_date[orders_for_date['OmsPostingId'] == order_id]\n",
    "        exemplars_in_order = list()\n",
    "        locations = list()\n",
    "\n",
    "        print(order_id)\n",
    "        for _, item in order_items.iterrows():\n",
    "            for i in range(item['Quantity']):\n",
    "                exmp = get_exemplars_order(product_list, item['RezonItemId'], already_picked_items, 'idc')\n",
    "                if(exmp is None):\n",
    "                    continue\n",
    "                already_picked_items_period.append((exmp.id, exmp.exemplar_id))\n",
    "                location = warehouse.find_product_location(exmp.id, exmp.exemplar_id)\n",
    "                if(location is None):\n",
    "                    continue\n",
    "                locations.append((location, exmp))\n",
    "                close_to_drop_stat_period.append(abs(0 - location[0]) + abs(0 - location[1]))\n",
    "                exemplars_in_order.append(exmp)\n",
    "        if(len(locations) == 0):\n",
    "            continue\n",
    "        print(already_picked_items)\n",
    "        dist = warehouse.perform_order_pick(\"s_shape\", locations, True)\n",
    "        stat_period.append(dist)\n",
    "        order_stat_period.append(len(locations))\n",
    "    period_statistics[(date,'COI with ads s_shape')] = {'mean' : np.mean(stat_period), \n",
    "                                                'median': np.median(sorted(stat_period)), \n",
    "                                                'sum': sum(stat_period), \n",
    "                                                'avg num of items': np.mean(order_stat_period), \n",
    "                                                'order_dist' : stat_period, \n",
    "                                                'mean dist to drop': np.mean(close_to_drop_stat_period), \n",
    "                                                'median dist to drop': np.median(close_to_drop_stat_period), \n",
    "                                                'dist to dtop': close_to_drop_stat_period}"
   ]
  },
  {
   "cell_type": "code",
   "execution_count": null,
   "metadata": {},
   "outputs": [],
   "source": [
    "np.mean(stat)"
   ]
  },
  {
   "cell_type": "code",
   "execution_count": null,
   "metadata": {},
   "outputs": [],
   "source": [
    "np.median(sorted(stat))"
   ]
  },
  {
   "cell_type": "code",
   "execution_count": null,
   "metadata": {},
   "outputs": [],
   "source": [
    "sum(stat)"
   ]
  },
  {
   "cell_type": "code",
   "execution_count": null,
   "metadata": {},
   "outputs": [],
   "source": [
    "statistics['COI with ads s-shape'] = {'mean' : np.mean(stat), 'median': np.median(sorted(stat)), 'sum': sum(stat) , 'avg num of items': np.mean(order_stat), 'order_dist' : stat, 'mean dist to drop': np.mean(close_to_drop_stat), 'median dist to drop': np.median(close_to_drop_stat), 'dist to dtop': close_to_drop_stat}"
   ]
  },
  {
   "cell_type": "markdown",
   "metadata": {},
   "source": [
    "## COI with ads return shape"
   ]
  },
  {
   "cell_type": "code",
   "execution_count": null,
   "metadata": {},
   "outputs": [],
   "source": [
    "warehouse = create_warehouse()\n",
    "\n",
    "product_list = sorted(product_list, key = lambda x: x.coi_with_ads)\n",
    "\n",
    "for product in product_list:\n",
    "    nearest_empty_cell = warehouse.place_product(product, 'return')\n",
    "\n",
    "warehouse.visualize_warehouse('occupancy')"
   ]
  },
  {
   "cell_type": "code",
   "execution_count": null,
   "metadata": {},
   "outputs": [],
   "source": [
    "warehouse.visualize_warehouse('coi')"
   ]
  },
  {
   "cell_type": "code",
   "execution_count": null,
   "metadata": {},
   "outputs": [],
   "source": [
    "warehouse.visualize_warehouse('coi')"
   ]
  },
  {
   "cell_type": "code",
   "execution_count": null,
   "metadata": {},
   "outputs": [],
   "source": [
    "warehouse.visualize_warehouse('idc')"
   ]
  },
  {
   "cell_type": "code",
   "execution_count": null,
   "metadata": {},
   "outputs": [],
   "source": [
    "print(\"Статистика пробега return пробегов размещения модели для COI\")\n",
    "stat = []\n",
    "order_stat = []\n",
    "close_to_drop_stat = []\n",
    "already_picked_items = list()\n",
    "for order_id in unique_orders:\n",
    "    order_items = df_sales_1[df_sales_1['OmsPostingId'] == order_id]\n",
    "    exemplars_in_order = list()\n",
    "    locations = list()\n",
    "\n",
    "    print(order_id)\n",
    "    for _, item in order_items.iterrows():\n",
    "        for i in range(item['Quantity']):\n",
    "            exmp = get_exemplars_order(product_list, item['RezonItemId'], already_picked_items, 'coi')\n",
    "            already_picked_items.append((exmp.id, exmp.exemplar_id))\n",
    "            location = warehouse.find_product_location(exmp.id, exmp.exemplar_id)\n",
    "            if(location is None):\n",
    "                continue\n",
    "            locations.append((location, exmp))\n",
    "            close_to_drop_stat.append(abs(0 - location[0]) + abs(0 - location[1]))\n",
    "            exemplars_in_order.append(exmp)\n",
    "    if(len(locations) == 0):\n",
    "        continue\n",
    "    print(already_picked_items)\n",
    "    dist = warehouse.perform_order_pick(\"return\", locations, True)\n",
    "    stat.append(dist)\n",
    "    order_stat.append(len(locations))"
   ]
  },
  {
   "cell_type": "code",
   "execution_count": null,
   "metadata": {},
   "outputs": [],
   "source": [
    "unique_dates = df_sales_period['Date'].unique()\n",
    "\n",
    "print(\"Статистика пробега return пробегов за период 30 дней размещения модели для COI\")\n",
    "\n",
    "for date in unique_dates:\n",
    "    stat_period = []\n",
    "    order_stat_period = []\n",
    "    close_to_drop_stat_period = []\n",
    "    already_picked_items_period = list()\n",
    "    orders_for_date = df_sales_period[df_sales_period['Date'] == date]\n",
    "    unique_orders_for_date = orders_for_date['OmsPostingId'].unique()\n",
    "    for order_id in unique_orders_for_date:\n",
    "        order_items = orders_for_date[orders_for_date['OmsPostingId'] == order_id]\n",
    "        exemplars_in_order = list()\n",
    "        locations = list()\n",
    "\n",
    "        print(order_id)\n",
    "        for _, item in order_items.iterrows():\n",
    "            for i in range(item['Quantity']):\n",
    "                exmp = get_exemplars_order(product_list, item['RezonItemId'], already_picked_items, 'idc')\n",
    "                if(exmp is None):\n",
    "                    continue\n",
    "                already_picked_items_period.append((exmp.id, exmp.exemplar_id))\n",
    "                location = warehouse.find_product_location(exmp.id, exmp.exemplar_id)\n",
    "                if(location is None):\n",
    "                    continue\n",
    "                locations.append((location, exmp))\n",
    "                close_to_drop_stat_period.append(abs(0 - location[0]) + abs(0 - location[1]))\n",
    "                exemplars_in_order.append(exmp)\n",
    "        if(len(locations) == 0):\n",
    "            continue\n",
    "        print(already_picked_items)\n",
    "        dist = warehouse.perform_order_pick(\"return\", locations, True)\n",
    "        stat_period.append(dist)\n",
    "        order_stat_period.append(len(locations))\n",
    "    period_statistics[(date,'COI with ads return')] = {'mean' : np.mean(stat_period), \n",
    "                                                'median': np.median(sorted(stat_period)), \n",
    "                                                'sum': sum(stat_period), \n",
    "                                                'avg num of items': np.mean(order_stat_period), \n",
    "                                                'order_dist' : stat_period, \n",
    "                                                'mean dist to drop': np.mean(close_to_drop_stat_period), \n",
    "                                                'median dist to drop': np.median(close_to_drop_stat_period), \n",
    "                                                'dist to dtop': close_to_drop_stat_period}"
   ]
  },
  {
   "cell_type": "code",
   "execution_count": null,
   "metadata": {},
   "outputs": [],
   "source": [
    "np.mean(stat)"
   ]
  },
  {
   "cell_type": "code",
   "execution_count": null,
   "metadata": {},
   "outputs": [],
   "source": [
    "np.median(sorted(stat))"
   ]
  },
  {
   "cell_type": "code",
   "execution_count": null,
   "metadata": {},
   "outputs": [],
   "source": [
    "sum(stat)"
   ]
  },
  {
   "cell_type": "code",
   "execution_count": null,
   "metadata": {},
   "outputs": [],
   "source": [
    "statistics['COI with ads return'] = {'mean' : np.mean(stat), 'median': np.median(sorted(stat)), 'sum': sum(stat), 'avg num of items': np.mean(order_stat), 'order_dist' : stat, 'mean dist to drop': np.mean(close_to_drop_stat), 'median dist to drop': np.median(close_to_drop_stat), 'dist to dtop': close_to_drop_stat}"
   ]
  },
  {
   "cell_type": "markdown",
   "metadata": {},
   "source": [
    "## Random return"
   ]
  },
  {
   "cell_type": "code",
   "execution_count": null,
   "metadata": {},
   "outputs": [],
   "source": [
    "warehouse = create_warehouse()\n",
    "\n",
    "shuffle(product_list)\n",
    "\n",
    "for product in product_list:\n",
    "    nearest_empty_cell = warehouse.place_product(product, 'return')\n",
    "\n",
    "warehouse.visualize_warehouse('occupancy')"
   ]
  },
  {
   "cell_type": "code",
   "execution_count": null,
   "metadata": {},
   "outputs": [],
   "source": [
    "warehouse.visualize_warehouse('coi')"
   ]
  },
  {
   "cell_type": "code",
   "execution_count": null,
   "metadata": {},
   "outputs": [],
   "source": [
    "warehouse.visualize_warehouse('coi')"
   ]
  },
  {
   "cell_type": "code",
   "execution_count": null,
   "metadata": {},
   "outputs": [],
   "source": [
    "warehouse.visualize_warehouse('idc')"
   ]
  },
  {
   "cell_type": "code",
   "execution_count": null,
   "metadata": {},
   "outputs": [],
   "source": [
    "print(\"Статистика пробега return пробегов размещения модели для randoim\")\n",
    "stat = []\n",
    "order_stat = []\n",
    "close_to_drop_stat = []\n",
    "already_picked_items = list()\n",
    "for order_id in unique_orders:\n",
    "    order_items = df_sales_1[df_sales_1['OmsPostingId'] == order_id]\n",
    "    exemplars_in_order = list()\n",
    "    locations = list()\n",
    "\n",
    "    print(order_id)\n",
    "    for _, item in order_items.iterrows():\n",
    "        for i in range(item['Quantity']):\n",
    "            exmp = get_exemplars_order(product_list, item['RezonItemId'], already_picked_items, 'random')\n",
    "            already_picked_items.append((exmp.id, exmp.exemplar_id))\n",
    "            location = warehouse.find_product_location(exmp.id, exmp.exemplar_id)\n",
    "            if(location is None):\n",
    "                continue\n",
    "            locations.append((location, exmp))\n",
    "            exemplars_in_order.append(exmp)\n",
    "            close_to_drop_stat.append(abs(0 - location[0]) + abs(0 - location[1]))\n",
    "    if(len(locations) == 0):\n",
    "        continue\n",
    "    print(already_picked_items)\n",
    "    dist = warehouse.perform_order_pick(\"return\", locations, True)\n",
    "    stat.append(dist)\n",
    "    order_stat.append(len(locations))"
   ]
  },
  {
   "cell_type": "code",
   "execution_count": null,
   "metadata": {},
   "outputs": [],
   "source": [
    "unique_dates = df_sales_period['Date'].unique()\n",
    "\n",
    "print(\"Статистика пробега return пробегов за период 30 дней размещения модели для Random\")\n",
    "\n",
    "for date in unique_dates:\n",
    "    stat_period = []\n",
    "    order_stat_period = []\n",
    "    close_to_drop_stat_period = []\n",
    "    already_picked_items_period = list()\n",
    "    orders_for_date = df_sales_period[df_sales_period['Date'] == date]\n",
    "    unique_orders_for_date = orders_for_date['OmsPostingId'].unique()\n",
    "    for order_id in unique_orders_for_date:\n",
    "        order_items = orders_for_date[orders_for_date['OmsPostingId'] == order_id]\n",
    "        exemplars_in_order = list()\n",
    "        locations = list()\n",
    "\n",
    "        print(order_id)\n",
    "        for _, item in order_items.iterrows():\n",
    "            for i in range(item['Quantity']):\n",
    "                exmp = get_exemplars_order(product_list, item['RezonItemId'], already_picked_items, 'idc')\n",
    "                if(exmp is None):\n",
    "                    continue\n",
    "                already_picked_items_period.append((exmp.id, exmp.exemplar_id))\n",
    "                location = warehouse.find_product_location(exmp.id, exmp.exemplar_id)\n",
    "                if(location is None):\n",
    "                    continue\n",
    "                locations.append((location, exmp))\n",
    "                close_to_drop_stat_period.append(abs(0 - location[0]) + abs(0 - location[1]))\n",
    "                exemplars_in_order.append(exmp)\n",
    "        if(len(locations) == 0):\n",
    "            continue\n",
    "        print(already_picked_items)\n",
    "        dist = warehouse.perform_order_pick(\"return\", locations, True)\n",
    "        stat_period.append(dist)\n",
    "        order_stat_period.append(len(locations))\n",
    "    period_statistics[(date,'random return')] = {'mean' : np.mean(stat_period), \n",
    "                                                'median': np.median(sorted(stat_period)), \n",
    "                                                'sum': sum(stat_period), \n",
    "                                                'avg num of items': np.mean(order_stat_period), \n",
    "                                                'order_dist' : stat_period, \n",
    "                                                'mean dist to drop': np.mean(close_to_drop_stat_period), \n",
    "                                                'median dist to drop': np.median(close_to_drop_stat_period), \n",
    "                                                'dist to dtop': close_to_drop_stat_period}"
   ]
  },
  {
   "cell_type": "code",
   "execution_count": null,
   "metadata": {},
   "outputs": [],
   "source": [
    "np.mean(stat)"
   ]
  },
  {
   "cell_type": "code",
   "execution_count": null,
   "metadata": {},
   "outputs": [],
   "source": [
    "np.median(sorted(stat))"
   ]
  },
  {
   "cell_type": "code",
   "execution_count": null,
   "metadata": {},
   "outputs": [],
   "source": [
    "sum(stat)"
   ]
  },
  {
   "cell_type": "code",
   "execution_count": null,
   "metadata": {},
   "outputs": [],
   "source": [
    "statistics['Random return'] = {'mean' : np.mean(stat), 'median': np.median(sorted(stat)), 'sum': sum(stat), 'avg num of items': np.mean(order_stat), 'order_dist' : stat, 'mean dist to drop': np.mean(close_to_drop_stat), 'median dist to drop': np.median(close_to_drop_stat), 'dist to dtop': close_to_drop_stat}"
   ]
  },
  {
   "cell_type": "markdown",
   "metadata": {},
   "source": [
    "## Random s-shape"
   ]
  },
  {
   "cell_type": "code",
   "execution_count": null,
   "metadata": {},
   "outputs": [],
   "source": [
    "warehouse = create_warehouse()\n",
    "\n",
    "\n",
    "for product in product_list:\n",
    "    nearest_empty_cell = warehouse.place_product(product, 'random')\n",
    "\n",
    "warehouse.visualize_warehouse('occupancy')"
   ]
  },
  {
   "cell_type": "code",
   "execution_count": null,
   "metadata": {},
   "outputs": [],
   "source": [
    "warehouse.visualize_warehouse('coi')"
   ]
  },
  {
   "cell_type": "code",
   "execution_count": null,
   "metadata": {},
   "outputs": [],
   "source": [
    "warehouse.visualize_warehouse('coi')"
   ]
  },
  {
   "cell_type": "code",
   "execution_count": null,
   "metadata": {},
   "outputs": [],
   "source": [
    "warehouse.visualize_warehouse('idc')"
   ]
  },
  {
   "cell_type": "code",
   "execution_count": null,
   "metadata": {},
   "outputs": [],
   "source": [
    "print(\"Статистика пробега return пробегов размещения модели для random\")\n",
    "stat = []\n",
    "order_stat = []\n",
    "close_to_drop_stat = []\n",
    "already_picked_items = list()\n",
    "for order_id in unique_orders:\n",
    "    order_items = df_sales_1[df_sales_1['OmsPostingId'] == order_id]\n",
    "    exemplars_in_order = list()\n",
    "    locations = list()\n",
    "\n",
    "    print(order_id)\n",
    "    for _, item in order_items.iterrows():\n",
    "        for i in range(item['Quantity']):\n",
    "            exmp = get_exemplars_order(product_list, item['RezonItemId'], already_picked_items, 'random')\n",
    "            already_picked_items.append((exmp.id, exmp.exemplar_id))\n",
    "            location = warehouse.find_product_location(exmp.id, exmp.exemplar_id)\n",
    "            if(location is None):\n",
    "                continue\n",
    "            locations.append((location, exmp))\n",
    "            close_to_drop_stat.append(abs(0 - location[0]) + abs(0 - location[1]))\n",
    "            exemplars_in_order.append(exmp)\n",
    "    if(len(locations) == 0):\n",
    "        continue\n",
    "    print(already_picked_items)\n",
    "    dist = warehouse.perform_order_pick(\"s_shape\", locations, True)\n",
    "    stat.append(dist)\n",
    "    order_stat.append(len(locations))"
   ]
  },
  {
   "cell_type": "code",
   "execution_count": null,
   "metadata": {},
   "outputs": [],
   "source": [
    "unique_dates = df_sales_period['Date'].unique()\n",
    "\n",
    "print(\"Статистика пробега s_shape пробегов за период 30 дней размещения модели для Random\")\n",
    "\n",
    "for date in unique_dates:\n",
    "    stat_period = []\n",
    "    order_stat_period = []\n",
    "    close_to_drop_stat_period = []\n",
    "    already_picked_items_period = list()\n",
    "    orders_for_date = df_sales_period[df_sales_period['Date'] == date]\n",
    "    unique_orders_for_date = orders_for_date['OmsPostingId'].unique()\n",
    "    for order_id in unique_orders_for_date:\n",
    "        order_items = orders_for_date[orders_for_date['OmsPostingId'] == order_id]\n",
    "        exemplars_in_order = list()\n",
    "        locations = list()\n",
    "\n",
    "        print(order_id)\n",
    "        for _, item in order_items.iterrows():\n",
    "            for i in range(item['Quantity']):\n",
    "                exmp = get_exemplars_order(product_list, item['RezonItemId'], already_picked_items, 'idc')\n",
    "                if(exmp is None):\n",
    "                    continue        \n",
    "                already_picked_items_period.append((exmp.id, exmp.exemplar_id))\n",
    "                location = warehouse.find_product_location(exmp.id, exmp.exemplar_id)\n",
    "                if(location is None):\n",
    "                    continue\n",
    "                locations.append((location, exmp))\n",
    "                close_to_drop_stat_period.append(abs(0 - location[0]) + abs(0 - location[1]))\n",
    "                exemplars_in_order.append(exmp)\n",
    "        if(len(locations) == 0):\n",
    "            continue\n",
    "        print(already_picked_items)\n",
    "        dist = warehouse.perform_order_pick(\"s_shape\", locations, True)\n",
    "        stat_period.append(dist)\n",
    "        order_stat_period.append(len(locations))\n",
    "    period_statistics[(date,'random s_shape')] = {'mean' : np.mean(stat_period), \n",
    "                                                'median': np.median(sorted(stat_period)), \n",
    "                                                'sum': sum(stat_period), \n",
    "                                                'avg num of items': np.mean(order_stat_period), \n",
    "                                                'order_dist' : stat_period, \n",
    "                                                'mean dist to drop': np.mean(close_to_drop_stat_period), \n",
    "                                                'median dist to drop': np.median(close_to_drop_stat_period), \n",
    "                                                'dist to dtop': close_to_drop_stat_period}"
   ]
  },
  {
   "cell_type": "code",
   "execution_count": null,
   "metadata": {},
   "outputs": [],
   "source": [
    "unique_dates"
   ]
  },
  {
   "cell_type": "code",
   "execution_count": null,
   "metadata": {},
   "outputs": [],
   "source": [
    "np.mean(stat)"
   ]
  },
  {
   "cell_type": "code",
   "execution_count": null,
   "metadata": {},
   "outputs": [],
   "source": [
    "np.median(sorted(stat))"
   ]
  },
  {
   "cell_type": "code",
   "execution_count": null,
   "metadata": {},
   "outputs": [],
   "source": [
    "sum(stat)"
   ]
  },
  {
   "cell_type": "code",
   "execution_count": null,
   "metadata": {},
   "outputs": [],
   "source": [
    "statistics['random s-shape'] = {'mean' : np.mean(stat), 'median': np.median(sorted(stat)), 'sum': sum(stat), 'avg num of items': np.mean(order_stat), 'order_dist' : stat, 'mean dist to drop': np.mean(close_to_drop_stat), 'median dist to drop': np.median(close_to_drop_stat), 'dist to dtop': close_to_drop_stat}"
   ]
  },
  {
   "cell_type": "markdown",
   "metadata": {},
   "source": [
    "## Statistics"
   ]
  },
  {
   "cell_type": "code",
   "execution_count": null,
   "metadata": {},
   "outputs": [],
   "source": [
    "for metric, stats in statistics.items():\n",
    "\n",
    "    print(f\"Метрика: {metric}\")\n",
    "    print(\"Статистики:\")\n",
    "    for stat_name, value in stats.items():\n",
    "        if(metric == 'order_dist'):\n",
    "            continue\n",
    "        print(f\"{stat_name}: {value}\")\n",
    "    print()"
   ]
  },
  {
   "cell_type": "code",
   "execution_count": null,
   "metadata": {},
   "outputs": [],
   "source": [
    "s_shape_metrics = {key: value for key, value in statistics.items() if 's-shape' in key}\n",
    "\n",
    "# Построить графики для метрик s-shape\n",
    "plt.figure(figsize=(50, 9))\n",
    "for key, value in s_shape_metrics.items():\n",
    "    order_dist = value['order_dist']\n",
    "    num_items = len(order_dist)\n",
    "    indices = np.arange(1, num_items + 1)\n",
    "    plt.plot(indices, order_dist,  linestyle='-', linewidth = 4, label=key)\n",
    "\n",
    "plt.xlabel('Index')\n",
    "plt.ylabel('Order Distance')\n",
    "plt.title(' ')\n",
    "plt.legend()\n",
    "plt.grid(True)\n",
    "plt.show()"
   ]
  },
  {
   "cell_type": "code",
   "execution_count": null,
   "metadata": {},
   "outputs": [],
   "source": [
    "s_shape_metrics = {key: value for key, value in statistics.items() if 'return' in key}\n",
    "\n",
    "# Построить графики для метрик s-shape\n",
    "plt.figure(figsize=(50, 9))\n",
    "for key, value in s_shape_metrics.items():\n",
    "    order_dist = value['order_dist']\n",
    "    num_items = len(order_dist)\n",
    "    indices = np.arange(1, num_items + 1)\n",
    "    plt.plot(indices, order_dist,  linestyle='-', linewidth = 4, label=key)\n",
    "\n",
    "plt.xlabel('Index')\n",
    "plt.ylabel('Order Distance')\n",
    "plt.title('Количество пробегов для одного и того же заказа с эвристикой \"return\" в разрезе статистик')\n",
    "plt.legend()\n",
    "plt.grid(True)\n",
    "plt.show()"
   ]
  },
  {
   "cell_type": "code",
   "execution_count": null,
   "metadata": {},
   "outputs": [],
   "source": [
    "len(period_statistics)"
   ]
  },
  {
   "cell_type": "code",
   "execution_count": null,
   "metadata": {},
   "outputs": [],
   "source": [
    "# Перебор данных в period_statistics для каждой даты\n",
    "for (date, metric), stats_df in period_statistics.items():\n",
    "    print(f\"Дата: {date}\")\n",
    "    print(f\"Метрика: {metric}\")\n",
    "    print(\"Статистики:\")\n",
    "    # Перебор метрик для данной даты\n",
    "    for stat_name, value in stats_df.items():\n",
    "        if metric == 'order_dist':\n",
    "            continue\n",
    "        print(f\"{stat_name}: {value}\")\n",
    "\n"
   ]
  },
  {
   "cell_type": "code",
   "execution_count": null,
   "metadata": {},
   "outputs": [],
   "source": [
    "len(period_statistics)"
   ]
  },
  {
   "cell_type": "code",
   "execution_count": null,
   "metadata": {},
   "outputs": [],
   "source": [
    "# Создаем словарь для хранения средних значений для метрик, содержащих 's_shape' в названии\n",
    "mean_s_shape_metrics = {metric: [] for (date, metric) in period_statistics.keys() if 's_shape' in metric}\n",
    "unique_dates = set()\n",
    "\n",
    "# Перебираем данные в period_statistics\n",
    "for (date, metric), stats_df in period_statistics.items():\n",
    "    if 's_shape' in metric:\n",
    "        unique_dates.add(date)\n",
    "        mean_value = stats_df['mean']  # Предполагается, что 'mean' - это название столбца со средними значениями\n",
    "        mean_s_shape_metrics[metric].append(mean_value)\n",
    "\n",
    "dates = sorted(list(unique_dates))\n",
    "# Строим график для каждой метрики, содержащей 's_shape' в названии\n",
    "plt.figure(figsize=(10, 6))\n",
    "for metric, values in mean_s_shape_metrics.items():\n",
    "    if values:  # Проверяем, есть ли значения для данной метрики\n",
    "        plt.plot(dates, values, label=metric)\n",
    "\n",
    "plt.xlabel('Дата')\n",
    "plt.ylabel('Среднее значение')\n",
    "plt.title('Средние значения метрик с s_shape по датам')\n",
    "plt.xticks(rotation=45)  # Поворачиваем подписи по оси X для лучшей читаемости\n",
    "plt.legend()\n",
    "plt.grid(True)\n",
    "plt.tight_layout()\n",
    "plt.show()\n",
    "\n"
   ]
  }
 ],
 "metadata": {
  "kernelspec": {
   "display_name": "Python 3",
   "language": "python",
   "name": "python3"
  },
  "language_info": {
   "codemirror_mode": {
    "name": "ipython",
    "version": 3
   },
   "file_extension": ".py",
   "mimetype": "text/x-python",
   "name": "python",
   "nbconvert_exporter": "python",
   "pygments_lexer": "ipython3",
   "version": "3.11.9"
  }
 },
 "nbformat": 4,
 "nbformat_minor": 2
}
